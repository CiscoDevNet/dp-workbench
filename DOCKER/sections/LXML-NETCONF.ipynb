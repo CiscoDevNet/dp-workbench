{
 "cells": [
  {
   "cell_type": "markdown",
   "metadata": {
    "toc": "true"
   },
   "source": [
    "# Table of Contents\n",
    " <p><div class=\"lev1 toc-item\"><a href=\"#Creating-XML-for-NETCONF-via-LXML\" data-toc-modified-id=\"Creating-XML-for-NETCONF-via-LXML-1\"><span class=\"toc-item-num\">1&nbsp;&nbsp;</span>Creating XML for NETCONF via LXML</a></div><div class=\"lev1 toc-item\"><a href=\"#Alternative-One:-Namespaces\" data-toc-modified-id=\"Alternative-One:-Namespaces-2\"><span class=\"toc-item-num\">2&nbsp;&nbsp;</span>Alternative One: Namespaces</a></div><div class=\"lev2 toc-item\"><a href=\"#Namespaces-we-care-about\" data-toc-modified-id=\"Namespaces-we-care-about-21\"><span class=\"toc-item-num\">2.1&nbsp;&nbsp;</span>Namespaces we care about</a></div><div class=\"lev2 toc-item\"><a href=\"#Register-the-namespaces-with-ElementTree\" data-toc-modified-id=\"Register-the-namespaces-with-ElementTree-22\"><span class=\"toc-item-num\">2.2&nbsp;&nbsp;</span>Register the namespaces with ElementTree</a></div><div class=\"lev3 toc-item\"><a href=\"#Using-xpath-to-retrieve-Elements\" data-toc-modified-id=\"Using-xpath-to-retrieve-Elements-221\"><span class=\"toc-item-num\">2.2.1&nbsp;&nbsp;</span>Using xpath to retrieve Elements</a></div><div class=\"lev1 toc-item\"><a href=\"#Alternative-Two:-No-(Less)-Namespaces\" data-toc-modified-id=\"Alternative-Two:-No-(Less)-Namespaces-3\"><span class=\"toc-item-num\">3&nbsp;&nbsp;</span>Alternative Two: No (Less) Namespaces</a></div><div class=\"lev1 toc-item\"><a href=\"#Writing-XML-to-a-File\" data-toc-modified-id=\"Writing-XML-to-a-File-4\"><span class=\"toc-item-num\">4&nbsp;&nbsp;</span>Writing XML to a File</a></div>"
   ]
  },
  {
   "cell_type": "markdown",
   "metadata": {},
   "source": [
    "# Creating XML for NETCONF via LXML\n",
    "LXML is a Python library to deal with XML element trees (among other things). It provides quite a lot of capabilities and in the context of NETCONF here's a little sample code that shows some ways how to create XML data for NETCONF via a script (vs. manually copyingand pasting it). \n",
    "\n",
    "But first of all let's lay some ground work:"
   ]
  },
  {
   "cell_type": "code",
   "execution_count": null,
   "metadata": {
    "collapsed": true
   },
   "outputs": [],
   "source": [
    "from lxml import etree as ET"
   ]
  },
  {
   "cell_type": "code",
   "execution_count": null,
   "metadata": {
    "collapsed": true
   },
   "outputs": [],
   "source": [
    "def pp(element):\n",
    "    print(ET.tostring(element, pretty_print=True).decode('utf-8'))"
   ]
  },
  {
   "cell_type": "markdown",
   "metadata": {},
   "source": [
    "# Alternative One: Namespaces\n",
    "This approach actually uses namespaces throughout the creation of the objects. This might look a bit over the top but it actually helps a lot to understand where those namespaces come into play. When looking at e.g. the `ietf-interfaces.yang` model, we can see pretty much at the top:\n",
    "\n",
    "    module ietf-interfaces {\n",
    "\n",
    "      namespace \"urn:ietf:params:xml:ns:yang:ietf-interfaces\";\n",
    "      prefix if;\n",
    "\n",
    "These statements define the namespace and the prefix for the given namespace. We will see these two elements later in our XML creation for an interface element in the `ietf-interfaces` YANG model.\n",
    "\n",
    "## Namespaces we care about\n",
    "The following three namespaces are relevant int the context of `ietf-interfaces` YANG model or more specifically to describe an interface within that model."
   ]
  },
  {
   "cell_type": "code",
   "execution_count": null,
   "metadata": {
    "collapsed": true
   },
   "outputs": [],
   "source": [
    "if_ns = ('if', 'urn:ietf:params:xml:ns:yang:ietf-interfaces')\n",
    "it_ns = ('ianaift', 'urn:ietf:params:xml:ns:yang:iana-if-type')\n",
    "ip_ns = ('ip', 'urn:ietf:params:xml:ns:yang:ietf-ip')"
   ]
  },
  {
   "cell_type": "markdown",
   "metadata": {},
   "source": [
    "## Register the namespaces with ElementTree\n",
    "If we register the namespace with ET automatically creates the proper prefix ('if' for ietf-interfaces) when creating an element without explicitely specifying a namespace map IF the element tag is properly specified **with** a namespace designator. This looks like\n",
    "\n",
    "    {urn:ietf:params:xml:ns:yang:ietf-interfaces}interfaces\n",
    "    \n",
    "The below is a bit of a hack to coerce the namespace tuples we defined above into function paramenters. Actually, `register_namespace()` takes two: \n",
    "\n",
    "1. the prefix -and- \n",
    "2. the actual URN for the namespace. "
   ]
  },
  {
   "cell_type": "code",
   "execution_count": null,
   "metadata": {
    "collapsed": false
   },
   "outputs": [],
   "source": [
    "ET.register_namespace(*if_ns)\n",
    "ET.register_namespace(*it_ns)\n",
    "ET.register_namespace(*ip_ns)"
   ]
  },
  {
   "cell_type": "markdown",
   "metadata": {},
   "source": [
    "Now, let's create a 'config' container with several sub-containers which eventually make up an ietf-interfaces interface tree describing a loopback interface with a name, a state and some IP addresses."
   ]
  },
  {
   "cell_type": "code",
   "execution_count": null,
   "metadata": {
    "collapsed": false
   },
   "outputs": [],
   "source": [
    "root = ET.Element('config')\n",
    "\n",
    "# Interface container\n",
    "interfaces = ET.SubElement(root, '{%s}interfaces' % if_ns[1])\n",
    "interface = ET.SubElement(interfaces, '{%s}interface' % if_ns[1])\n",
    "\n",
    "# Interface Name\n",
    "e = ET.SubElement(interface, '{%s}name' % if_ns[1])\n",
    "e.text = 'Loopback99'\n",
    "\n",
    "# enabled?\n",
    "e = ET.SubElement(interface, '{%s}enabled' % if_ns[1])\n",
    "e.text = 'true'\n",
    "\n",
    "# Interface Type\n",
    "e = ET.SubElement(interface, '{%s}type' % if_ns[1], nsmap=dict((if_ns, it_ns)))\n",
    "e.text = '%s:softwareLoopback' % it_ns[0]\n",
    "\n",
    "# IPv4 Element\n",
    "ip = ET.SubElement(interface, '{%s}ipv4' % ip_ns[1])\n",
    "address = ET.SubElement(ip, '{%s}address' % ip_ns[1])\n",
    "e = ET.SubElement(address, '{%s}ip' % ip_ns[1])\n",
    "e.text = '1.2.3.4'\n",
    "e = ET.SubElement(address, '{%s}netmask' % ip_ns[1])\n",
    "e.text = '255.0.0.0'\n",
    "\n",
    "# IPv6 Element\n",
    "ip = ET.SubElement(interface, '{%s}ipv6' % ip_ns[1])\n",
    "address = ET.SubElement(ip, '{%s}address' % ip_ns[1])\n",
    "e = ET.SubElement(address, '{%s}ip' % ip_ns[1])\n",
    "e.text = '2001:db8:99::1'\n",
    "e = ET.SubElement(address, '{%s}prefix-length' % ip_ns[1])\n",
    "e.text = '64'"
   ]
  },
  {
   "cell_type": "markdown",
   "metadata": {},
   "source": [
    "Finally, let's print the resulting ElementTree:"
   ]
  },
  {
   "cell_type": "code",
   "execution_count": null,
   "metadata": {
    "collapsed": false
   },
   "outputs": [],
   "source": [
    "pp(root)"
   ]
  },
  {
   "cell_type": "markdown",
   "metadata": {},
   "source": [
    "As you can see, all of the elements within the `<config>` container are properly prefixed with the namespace and the proper `xmlns` attribute.\n",
    "\n",
    "### Using xpath to retrieve Elements\n",
    "We can use the `xpath` method to extract information from the ElementTree. Note that providing the proper namespace maps **and** prefixing the elements with their associated namespaces is required. Results are returned as a list."
   ]
  },
  {
   "cell_type": "code",
   "execution_count": null,
   "metadata": {
    "collapsed": false
   },
   "outputs": [],
   "source": [
    "root.xpath('/config/if:interfaces/if:interface/ip:ipv6/ip:address/ip:ip/text()', namespaces=dict((if_ns, ip_ns)))"
   ]
  },
  {
   "cell_type": "code",
   "execution_count": null,
   "metadata": {
    "collapsed": false
   },
   "outputs": [],
   "source": [
    "pp(root.xpath('//*[local-name() = \"ipv4\"]')[0])"
   ]
  },
  {
   "cell_type": "markdown",
   "metadata": {},
   "source": [
    "If we want to specify a particular element in the tree without specifying namespaces then we have to use the `local-name()` function:"
   ]
  },
  {
   "cell_type": "code",
   "execution_count": null,
   "metadata": {
    "collapsed": false
   },
   "outputs": [],
   "source": [
    "root.xpath('//*[local-name() = \"ipv6\"]/*[local-name()=\"address\"]/*[local-name()=\"ip\"]/text()')"
   ]
  },
  {
   "cell_type": "code",
   "execution_count": null,
   "metadata": {
    "collapsed": false
   },
   "outputs": [],
   "source": [
    "root.xpath('//*[local-name() = \"ipv6/address/ip\"]/text()')"
   ]
  },
  {
   "cell_type": "code",
   "execution_count": null,
   "metadata": {
    "collapsed": false
   },
   "outputs": [],
   "source": [
    "root.xpath('//*[local-name() = \"ip\"]/text()')"
   ]
  },
  {
   "cell_type": "markdown",
   "metadata": {},
   "source": [
    "`xpath` is a powerful way to retrieve information from an XML tree. It can use expression functions, variable replacesment, regular expression and more. See [the documentation page](http://lxml.de/xpathxslt.html#xpath) for more examples and information. And some additional [examples on xpath functions](https://msdn.microsoft.com/en-us/library/ms256086&#40;v=vs.110&#41;.aspx).\n",
    "\n",
    "# Alternative Two: No (Less) Namespaces\n",
    "Or at least minimize the use of namespaces and operate primarily with the default namesspace. The default namespace has no prefix but elements can still carry the xmlns attributes to distinguish between different namespaces, where appropriate."
   ]
  },
  {
   "cell_type": "code",
   "execution_count": null,
   "metadata": {
    "collapsed": true
   },
   "outputs": [],
   "source": [
    "if_ns = {None: 'urn:ietf:params:xml:ns:yang:ietf-interfaces'}\n",
    "it_ns = {'ianaift': 'urn:ietf:params:xml:ns:yang:iana-if-type'}\n",
    "ip_ns = {None: 'urn:ietf:params:xml:ns:yang:ietf-ip'}"
   ]
  },
  {
   "cell_type": "code",
   "execution_count": null,
   "metadata": {
    "collapsed": true
   },
   "outputs": [],
   "source": [
    "# root element\n",
    "root = ET.Element('config')\n",
    "\n",
    "# Interface container\n",
    "interfaces = ET.SubElement(root, 'interfaces', nsmap=if_ns)\n",
    "interface = ET.SubElement(interfaces, 'interface')\n",
    "\n",
    "# Interface Name\n",
    "e = ET.SubElement(interface, 'name')\n",
    "e.text = 'Loopback99'\n",
    "\n",
    "# enabled?\n",
    "e = ET.SubElement(interface, 'enabled')\n",
    "e.text = 'true'\n",
    "\n",
    "# Interface Type\n",
    "e = ET.SubElement(interface, 'type', nsmap={**if_ns, **it_ns})\n",
    "e.text = 'ianaift:softwareLoopback'\n",
    "\n",
    "# IPv4 Element\n",
    "ip = ET.SubElement(interface, 'ipv4', nsmap=ip_ns)\n",
    "address = ET.SubElement(ip, 'address')\n",
    "e = ET.SubElement(address, 'ip')\n",
    "e.text = '1.2.3.4'\n",
    "e = ET.SubElement(address, 'netmask')\n",
    "e.text = '255.0.0.0'\n",
    "\n",
    "# IPv6 Element\n",
    "ip = ET.SubElement(interface, 'ipv6', nsmap=ip_ns)\n",
    "address = ET.SubElement(ip, 'address')\n",
    "e = ET.SubElement(address, 'ip')\n",
    "e.text = '2001:db8:99::1'\n",
    "e = ET.SubElement(address, 'prefix-length')\n",
    "e.text = '64'"
   ]
  },
  {
   "cell_type": "code",
   "execution_count": null,
   "metadata": {
    "collapsed": false
   },
   "outputs": [],
   "source": [
    "pp(root)"
   ]
  },
  {
   "cell_type": "markdown",
   "metadata": {},
   "source": [
    "The resulting XML above looks a bit more concise then the previous result. Syntactically and also from a functionality point of view (in the ncclient / NETCONF context) they are exactly the same. It's up to the reader which method they prefer.\n",
    "\n",
    "The idea here is to only pass a namespace map (`nsmap`) when required, e.g. when defining the first element within the tree with a different namespace than the previous element used.\n",
    "\n",
    "There is one oddity in the above code worth mentioning: The construct `nsmap={**if_ns, **it_ns}`. What does this do? This is one way of 'merging' two dictionaries into one. Essentially `nsmap = if_ns + if_ns`. But this isn't defined in Python.\n",
    "\n",
    "The reason why we need two namespaces for the `<type>` element is that the element itself is within the previous namespace ('if'). The value of the element, however, is from a different namespace ('ianaift'). This needs to be designated and hence the dual-namespace map."
   ]
  },
  {
   "cell_type": "markdown",
   "metadata": {},
   "source": [
    "# Writing XML to a File\n",
    "Finally, if we want to write the entire Element Tree into a file, we can do something like this:"
   ]
  },
  {
   "cell_type": "code",
   "execution_count": null,
   "metadata": {
    "collapsed": true
   },
   "outputs": [],
   "source": [
    "filename = '../tmp/output.xml'\n",
    "with open(filename,'w') as f:\n",
    "    f.write(ET.tostring(root).decode('utf-8'))"
   ]
  },
  {
   "cell_type": "code",
   "execution_count": null,
   "metadata": {
    "collapsed": true
   },
   "outputs": [],
   "source": []
  }
 ],
 "metadata": {
  "kernelspec": {
   "display_name": "Python 3",
   "language": "python",
   "name": "python3"
  },
  "language_info": {
   "codemirror_mode": {
    "name": "ipython",
    "version": 3
   },
   "file_extension": ".py",
   "mimetype": "text/x-python",
   "name": "python",
   "nbconvert_exporter": "python",
   "pygments_lexer": "ipython3",
   "version": "3.5.2"
  },
  "toc": {
   "nav_menu": {
    "height": "135px",
    "width": "252px"
   },
   "navigate_menu": true,
   "number_sections": true,
   "sideBar": false,
   "threshold": 4,
   "toc_cell": true,
   "toc_section_display": "block",
   "toc_window_display": false
  }
 },
 "nbformat": 4,
 "nbformat_minor": 1
}
