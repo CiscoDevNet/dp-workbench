{
 "cells": [
  {
   "cell_type": "markdown",
   "metadata": {
    "toc": "true"
   },
   "source": [
    "# Table of Contents\n",
    " <p><div class=\"lev1 toc-item\"><a href=\"#NETCONF/YANG\" data-toc-modified-id=\"NETCONF/YANG-1\"><span class=\"toc-item-num\">1&nbsp;&nbsp;</span>NETCONF/YANG</a></div><div class=\"lev2 toc-item\"><a href=\"#Useful-Snippets\" data-toc-modified-id=\"Useful-Snippets-11\"><span class=\"toc-item-num\">1.1&nbsp;&nbsp;</span>Useful Snippets</a></div><div class=\"lev3 toc-item\"><a href=\"#Enable-Debugging\" data-toc-modified-id=\"Enable-Debugging-111\"><span class=\"toc-item-num\">1.1.1&nbsp;&nbsp;</span>Enable Debugging</a></div><div class=\"lev3 toc-item\"><a href=\"#Pretty-Printing-XML\" data-toc-modified-id=\"Pretty-Printing-XML-112\"><span class=\"toc-item-num\">1.1.2&nbsp;&nbsp;</span>Pretty Printing XML</a></div><div class=\"lev1 toc-item\"><a href=\"#Connecting-to-a-Device\" data-toc-modified-id=\"Connecting-to-a-Device-2\"><span class=\"toc-item-num\">2&nbsp;&nbsp;</span>Connecting to a Device</a></div><div class=\"lev2 toc-item\"><a href=\"#Capabilities\" data-toc-modified-id=\"Capabilities-21\"><span class=\"toc-item-num\">2.1&nbsp;&nbsp;</span>Capabilities</a></div><div class=\"lev2 toc-item\"><a href=\"#YANG-Schema-Discovery\" data-toc-modified-id=\"YANG-Schema-Discovery-22\"><span class=\"toc-item-num\">2.2&nbsp;&nbsp;</span>YANG Schema Discovery</a></div><div class=\"lev1 toc-item\"><a href=\"#Device-Configuration\" data-toc-modified-id=\"Device-Configuration-3\"><span class=\"toc-item-num\">3&nbsp;&nbsp;</span>Device Configuration</a></div><div class=\"lev2 toc-item\"><a href=\"#Getting-the-Configuration\" data-toc-modified-id=\"Getting-the-Configuration-31\"><span class=\"toc-item-num\">3.1&nbsp;&nbsp;</span>Getting the Configuration</a></div><div class=\"lev2 toc-item\"><a href=\"#Editing-Config\" data-toc-modified-id=\"Editing-Config-32\"><span class=\"toc-item-num\">3.2&nbsp;&nbsp;</span>Editing Config</a></div><div class=\"lev1 toc-item\"><a href=\"#Operational-Data\" data-toc-modified-id=\"Operational-Data-4\"><span class=\"toc-item-num\">4&nbsp;&nbsp;</span>Operational Data</a></div><div class=\"lev2 toc-item\"><a href=\"#Verbose-Interface-Stats\" data-toc-modified-id=\"Verbose-Interface-Stats-41\"><span class=\"toc-item-num\">4.1&nbsp;&nbsp;</span>Verbose Interface Stats</a></div><div class=\"lev2 toc-item\"><a href=\"#Zeroing-In-On-A-Specific-Interface\" data-toc-modified-id=\"Zeroing-In-On-A-Specific-Interface-42\"><span class=\"toc-item-num\">4.2&nbsp;&nbsp;</span>Zeroing In On A Specific Interface</a></div><div class=\"lev2 toc-item\"><a href=\"#Work-with-the-Routing-Table-(RIB)\" data-toc-modified-id=\"Work-with-the-Routing-Table-(RIB)-43\"><span class=\"toc-item-num\">4.3&nbsp;&nbsp;</span>Work with the Routing Table (RIB)</a></div><div class=\"lev1 toc-item\"><a href=\"#Conclusion\" data-toc-modified-id=\"Conclusion-5\"><span class=\"toc-item-num\">5&nbsp;&nbsp;</span>Conclusion</a></div>"
   ]
  },
  {
   "cell_type": "markdown",
   "metadata": {},
   "source": [
    "# NETCONF/YANG\n",
    "This notebook goes through a set of examples with a CSR1000v virtual platform. The goal is to show how NETCONF/YANG can be simply leveraged with IOS-XE to perform a range of tasks. We will cover topics like:\n",
    "\n",
    "* Basic connectivity\n",
    "* Why we really want to use some form of client library\n",
    "* Getting started with a Python client like [ncclient](https://github/com/ncclient/ncclient)\n",
    "* Model and feature discovery\n",
    "* Querying and configuring features\n",
    "\n",
    "\n",
    "## Useful Snippets\n",
    "\n",
    "Let's define some useful little snippets of code that we might want to run to define utilities or to enable debugs, set variables for use, etc.\n",
    "\n",
    "### Enable Debugging\n",
    "\n",
    "The ncclient libary can generate vast amounts of debug information via standard Python logging. The code fragment below shows how to enable this. But the logging can be **vast** if set to `DEBUG`! You have been warned!"
   ]
  },
  {
   "cell_type": "code",
   "execution_count": null,
   "metadata": {
    "collapsed": true
   },
   "outputs": [],
   "source": [
    "import logging\n",
    "\n",
    "handler = logging.StreamHandler()\n",
    "for l in ['ncclient.transport.ssh', 'ncclient.transport.session', 'ncclient.operations.rpc']:\n",
    "    logger = logging.getLogger(l)\n",
    "    if not logger.hasHandlers():\n",
    "        logger.addHandler(handler)\n",
    "        logger.setLevel(logging.INFO)"
   ]
  },
  {
   "cell_type": "markdown",
   "metadata": {},
   "source": [
    "### Pretty Printing XML\n",
    "\n",
    "The ncclient library works with XML. It takes XML in and gives XML back. Yeah, I know it's not JSON, so we need to make it a little easier to read, so let's define a pretty printer we can use with ncclient responses:"
   ]
  },
  {
   "cell_type": "code",
   "execution_count": null,
   "metadata": {
    "collapsed": false,
    "scrolled": true
   },
   "outputs": [],
   "source": [
    "from lxml import etree as ET\n",
    "\n",
    "def pretty_print(element):\n",
    "    \"\"\"print the XML data, print a line between top level children\n",
    "    so that the elements can be visually identified\n",
    "    input:\n",
    "        element etree element\n",
    "    \"\"\"\n",
    "    # NC XML data embeds actual data in a '<data></data>' tag\n",
    "    # which is the first and only child.\n",
    "    # data = element.data.getchildren()\n",
    "    data = list(element.data)\n",
    "    items = len(data)\n",
    "    for i, d in enumerate(data):\n",
    "        if i > 0 and i < items:\n",
    "            print('*' * 40)\n",
    "            print()\n",
    "        print(ET.tostring(d, pretty_print=True).decode('utf-8'))\n"
   ]
  },
  {
   "cell_type": "markdown",
   "metadata": {},
   "source": [
    "# Connecting to a Device\n",
    "\n",
    "First, we need to make sure the device itself has NETCONF/YANG enabled. It's pretty simple. Basically, SSH to the device on the NETCONF agent's port and provide the proper subsystem (netconf).\n",
    "\n",
    "```\n",
    "$ ssh -p 830 -s vagrant@172.20.20.10 netconf\n",
    "vagrant@172.20.20.20's password:\n",
    "<?xml version=\"1.0\" encoding=\"UTF-8\"?>\n",
    "<hello xmlns=\"urn:ietf:params:xml:ns:netconf:base:1.0\">\n",
    "<capabilities>\n",
    "<capability>urn:ietf:params:netconf:base:1.0</capability>\n",
    "<capability>urn:ietf:params:netconf:base:1.1</capability>\n",
    "[...]\n",
    "^C\n",
    "$\n",
    "```\n",
    "\n",
    "<p class='my-notify-info'>The -s is a switch to SSH to interpret the provided remote command as the SSH subsystem to use.</p>\n",
    "\n",
    "Next, let's define some variables that let us attach to the device:"
   ]
  },
  {
   "cell_type": "code",
   "execution_count": null,
   "metadata": {
    "collapsed": true
   },
   "outputs": [],
   "source": [
    "HOST = '172.20.20.10'\n",
    "PORT = 830\n",
    "USER = 'vagrant'\n",
    "PASS = 'vagrant'"
   ]
  },
  {
   "cell_type": "markdown",
   "metadata": {},
   "source": [
    "Now let's establish a NETCONF session to that box using ncclient (this next step takes a second or two, please watch out for the `In [*]`, indicating that the Python kernel is still busy):"
   ]
  },
  {
   "cell_type": "code",
   "execution_count": null,
   "metadata": {
    "collapsed": false,
    "scrolled": true
   },
   "outputs": [],
   "source": [
    "from ncclient import manager\n",
    "\n",
    "def my_unknown_host_cb(host, fingerprint):\n",
    "    return True\n",
    "    \n",
    "m = manager.connect(host=HOST, port=PORT, username=USER, password=PASS,\n",
    "                    allow_agent=False,\n",
    "                    look_for_keys=False,\n",
    "                    hostkey_verify=False,\n",
    "                    unknown_host_cb=my_unknown_host_cb, device_params={'name':'csr'})"
   ]
  },
  {
   "cell_type": "markdown",
   "metadata": {},
   "source": [
    "## Capabilities\n",
    "If you observe the output from the `connect` command carefully then you'll see that the `server_capabilities` have been returned. Looks like a dictionary!. Let's look at those capabilities:"
   ]
  },
  {
   "cell_type": "code",
   "execution_count": null,
   "metadata": {
    "collapsed": false,
    "scrolled": true
   },
   "outputs": [],
   "source": [
    "caps = m.server_capabilities\n",
    "[c for c in caps]"
   ]
  },
  {
   "cell_type": "markdown",
   "metadata": {
    "collapsed": true
   },
   "source": [
    "Ok, that's a lot to look at, so show only NETCONF capabilities:"
   ]
  },
  {
   "cell_type": "code",
   "execution_count": null,
   "metadata": {
    "collapsed": false
   },
   "outputs": [],
   "source": [
    "[c for c in caps if c.startswith('urn:ietf:params:netconf')]"
   ]
  },
  {
   "cell_type": "markdown",
   "metadata": {
    "collapsed": true
   },
   "source": [
    "And now let's look at the capabilities that are related to model support:"
   ]
  },
  {
   "cell_type": "code",
   "execution_count": null,
   "metadata": {
    "collapsed": false,
    "scrolled": true
   },
   "outputs": [],
   "source": [
    "import re\n",
    "\n",
    "for c in caps:\n",
    "    model = re.search('module=([^&]*)&', c)\n",
    "    if model is not None:\n",
    "        print(\"{}\".format(model.group(1)))\n",
    "\n",
    "        revision = re.search('revision=([0-9]{4}-[0-9]{2}-[0-9]{2})', c)\n",
    "        if revision is not None:\n",
    "            print(\"  revision = {}\".format(revision.group(1)))\n",
    "\n",
    "        deviations = re.search('deviations=([a-zA-Z0-9\\-,]+)($|&)',c)\n",
    "        if deviations is not None:\n",
    "            print(\"  deviations = {}\".format(deviations.group(1)))\n",
    "\n",
    "        features = re.search('features=([a-zA-Z0-9\\-,]+)($|&)',c)\n",
    "        if features is not None:\n",
    "            print(\"  features = {}\".format(features.group(1)))"
   ]
  },
  {
   "cell_type": "markdown",
   "metadata": {},
   "source": [
    "## YANG Schema Discovery\n",
    "\n",
    "Building on the parsing of the capabilities we saw above, NETCONF/YANG can also let a client discover more details on the schemas supported by a box.\n",
    "\n",
    "But why do we care? Let's think back to what we talked about earlier. About the need for boxes to describe themselves to their clients. To expose their \"model\".\n",
    "\n",
    "Let's pick a base model that looks like it may do something interesting, for example ```Cisco-IOS-XR-ifmgr-cfg```, and let's download the schema. The ncclient library provides a nice, simple function for that. Again, the next operation takes a little while to complete)."
   ]
  },
  {
   "cell_type": "code",
   "execution_count": null,
   "metadata": {
    "collapsed": false,
    "scrolled": true
   },
   "outputs": [],
   "source": [
    "c = m.get_schema('ietf-interfaces')\n",
    "# c = m.get_schema('iana-if-type')\n",
    "# c = m.get_schema('ned')\n",
    "print(c)"
   ]
  },
  {
   "cell_type": "markdown",
   "metadata": {},
   "source": [
    "<p class=\"my-notify-info\">Try with different models. Look at the capabilities output from above. Look for other models of interest and their names and try to retrieve them via `get_schema`.</p>\n",
    "\n",
    "The YANG model is actually embedded in XML which is a bit hard to look at so let's only print the data part of the schema which represents the vanilla YANG model:"
   ]
  },
  {
   "cell_type": "code",
   "execution_count": null,
   "metadata": {
    "collapsed": false,
    "scrolled": true
   },
   "outputs": [],
   "source": [
    "print(c.data)"
   ]
  },
  {
   "cell_type": "markdown",
   "metadata": {},
   "source": [
    "If you look at the above output you'll notice that it looks a lot like C-code with all the curly braces, type definitions etc. In fact, a programmer might already *grasp* the purpose of a YANG model definition by looking at the vanilla YANG text.\n",
    "\n",
    "As a 'normal' user we might want to transform that YANG text into something more readable. We use the `pyang` tool for that purpose. With the this tool (which is also written in Python) we can transform the YANG model (stored in `c.data` as a string) as a tree representation:"
   ]
  },
  {
   "cell_type": "code",
   "execution_count": null,
   "metadata": {
    "collapsed": false,
    "scrolled": false
   },
   "outputs": [],
   "source": [
    "import subprocess\n",
    "print(subprocess.run([\"pyang\", \"-f\", \"tree\"], input=c.data, stdout=subprocess.PIPE, universal_newlines=True).stdout)"
   ]
  },
  {
   "cell_type": "markdown",
   "metadata": {},
   "source": [
    "pyang can convert YANG models into different output. The below command shows us the different formats it knows about."
   ]
  },
  {
   "cell_type": "code",
   "execution_count": null,
   "metadata": {
    "collapsed": false,
    "scrolled": false
   },
   "outputs": [],
   "source": [
    "!pyang -h | grep -e '--format' -A3"
   ]
  },
  {
   "cell_type": "markdown",
   "metadata": {},
   "source": [
    "And now let's write the output in a different format (a JavaScript enabled HTML format) into a file so that we can reference it later:"
   ]
  },
  {
   "cell_type": "code",
   "execution_count": null,
   "metadata": {
    "collapsed": false,
    "scrolled": false
   },
   "outputs": [],
   "source": [
    "with open('/home/docker/notebooks/tmp/ietf-interfaces.html', 'w') as fh:\n",
    "    subprocess.run([\"pyang\", \"-f\", \"jstree\"], input=c.data, stdout=fh, universal_newlines=True)"
   ]
  },
  {
   "cell_type": "code",
   "execution_count": null,
   "metadata": {
    "collapsed": false,
    "scrolled": true
   },
   "outputs": [],
   "source": [
    "%%HTML\n",
    "<iframe width=\"100%\" height=\"400px\" src='/notebooks/tmp/ietf-interfaces.html'</iframe>"
   ]
  },
  {
   "cell_type": "markdown",
   "metadata": {},
   "source": [
    "You should now be able to open this file by clicking [here](/notebooks/tmp/ietf-interfaces.html). Keep the window open as we're going to reference it later in the RESTCONF section as well.\n",
    "\n",
    "# Device Configuration\n",
    "\n",
    "The ncclient library provides for some simple operations. Let's skip thinking about schemas and stuff like that. Instead let's focus on config and getting end setting it. For that, ncclient provides two methods:\n",
    "\n",
    "* `get_config` - takes a target data store and an optional filter\n",
    "* `edit_config` - takes a target data store and an XML document with the edit request\n",
    "\n",
    "\n",
    "## Getting the Configuration\n",
    "\n",
    "Let's look at some simple requests... The next two statements retrieve the **entire** configuration and simply *pretty-print* it for better readability."
   ]
  },
  {
   "cell_type": "code",
   "execution_count": null,
   "metadata": {
    "collapsed": false,
    "scrolled": true
   },
   "outputs": [],
   "source": [
    "c = m.get_config(source='running')\n",
    "pretty_print(c)"
   ]
  },
  {
   "cell_type": "markdown",
   "metadata": {},
   "source": [
    "Now, since we have the data in an XML object we can also programatically deal with it. How about getting al the interfaces from the XML tree and then print some of their attributes? We use a library function `findall()` and instruct it to look for the relevant elements. Refer to [lxml documentation](http://lxml.de/) for more detailed information about the lxml library.\n",
    "\n",
    "<p class=\"my-notify-info\">The namespace is required to distinguish between elements with the same name in different namespaces. In this case, we do have the `ietf-interfaces` namespace and the `native` namespace which contain both interface elements. At the end of the day they both point to the same router interfaces but we have to be specific with our find!</p>"
   ]
  },
  {
   "cell_type": "code",
   "execution_count": null,
   "metadata": {
    "collapsed": false
   },
   "outputs": [],
   "source": [
    "# ietf-interfaces name space\n",
    "namespace = \"urn:ietf:params:xml:ns:yang:ietf-interfaces\"\n",
    "\n",
    "interfaces = c.data.findall('.//{%s}interface' % namespace)\n",
    "for ifc in interfaces:\n",
    "    print(ifc.find('{%s}name' % namespace).text, \": \", sep='', end='')\n",
    "    print(ifc.find('{%s}enabled' % namespace).text)"
   ]
  },
  {
   "cell_type": "markdown",
   "metadata": {},
   "source": [
    "We can use a filter to only return parts of the XML model tree. In this case, we're only interested in the `ip domain-name` configuration part. We define the filter accordingly:"
   ]
  },
  {
   "cell_type": "code",
   "execution_count": null,
   "metadata": {
    "collapsed": false,
    "scrolled": false
   },
   "outputs": [],
   "source": [
    "filter = '''\n",
    "<native>\n",
    "  <ip><domain/></ip>\n",
    "</native>\n",
    "'''\n",
    "c = m.get_config(source='running', filter=('subtree', filter))\n",
    "pretty_print(c)"
   ]
  },
  {
   "cell_type": "markdown",
   "metadata": {},
   "source": [
    "Or get the hostname of the device from the native mode:"
   ]
  },
  {
   "cell_type": "code",
   "execution_count": null,
   "metadata": {
    "collapsed": false,
    "scrolled": false
   },
   "outputs": [],
   "source": [
    "filter = '''\n",
    "<native>\n",
    "  <hostname/>\n",
    "</native>\n",
    "'''\n",
    "c = m.get_config(source='running', filter=('subtree', filter))\n",
    "pretty_print(c)"
   ]
  },
  {
   "cell_type": "markdown",
   "metadata": {},
   "source": [
    "As we should see by the returned data, the **`name`** element data has been filled with the actual domain name and hostname (respectively) that is configured on the device!\n",
    "\n",
    "Now let's add another simple filter to just get interface configuration:"
   ]
  },
  {
   "cell_type": "code",
   "execution_count": null,
   "metadata": {
    "collapsed": false,
    "scrolled": true
   },
   "outputs": [],
   "source": [
    "filter = '''\n",
    "<interfaces xmlns=\"urn:ietf:params:xml:ns:yang:ietf-interfaces\">\n",
    "'''\n",
    "c = m.get_config(source='running', filter=('subtree', filter))\n",
    "pretty_print(c)"
   ]
  },
  {
   "cell_type": "markdown",
   "metadata": {},
   "source": [
    "Let's refine the query a bit to look at **just** the 2nd Ethernet port:"
   ]
  },
  {
   "cell_type": "code",
   "execution_count": null,
   "metadata": {
    "collapsed": false,
    "scrolled": false
   },
   "outputs": [],
   "source": [
    "filter = '''\n",
    "<interfaces xmlns=\"urn:ietf:params:xml:ns:yang:ietf-interfaces\">\n",
    "  <interface>\n",
    "    <name>GigabitEthernet2</name>\n",
    "  </interface>\n",
    "</interfaces>\n",
    "'''\n",
    "c = m.get_config(source='running', filter=('subtree', filter))\n",
    "pretty_print(c)"
   ]
  },
  {
   "cell_type": "markdown",
   "metadata": {},
   "source": [
    "Or we may want to look at just routing configuration. To make this a bit more interesting, we've added an OSPF router on both devices with a few static routes that get distributed into OSPF.\n",
    "\n",
    "<p class=\"my-notify-info\">The below XML output is CONFIGURATION data. Note that the actual routing table (RIB) is OPERATIONAL data. We'll look at that in a minute!</p>"
   ]
  },
  {
   "cell_type": "code",
   "execution_count": null,
   "metadata": {
    "collapsed": false,
    "scrolled": true
   },
   "outputs": [],
   "source": [
    "filter = '<routing xmlns=\"urn:ietf:params:xml:ns:yang:ietf-routing\">'\n",
    "c = m.get_config(source='running', filter=('subtree', filter))\n",
    "pretty_print(c)"
   ]
  },
  {
   "cell_type": "markdown",
   "metadata": {},
   "source": [
    "## Editing Config\n",
    "\n",
    "Let's start with something simple, like applying an IP address to an interface and bringing it up. We can actually use the data we got from the existing `loopback99` interface as a template. As you might have noticed above, the interface is configured but currently in *administrative shutdown* state.\n",
    "\n",
    "To do this, we use two functions:\n",
    "\n",
    "* ```edit_config``` on the candidate data store\n",
    "* ```commit``` to commit the change to running config, just like on the CLI\n",
    "\n",
    "For good measure, we'll also get the interface config back again to check out that what we asked to happen, actually did happen. By using the `etree.XML()` function we automatically check correct syntax as well."
   ]
  },
  {
   "cell_type": "code",
   "execution_count": null,
   "metadata": {
    "collapsed": false
   },
   "outputs": [],
   "source": [
    "loopback = ET.XML('''\n",
    "<config>\n",
    " <interfaces xmlns=\"urn:ietf:params:xml:ns:yang:ietf-interfaces\">\n",
    "  <interface>\n",
    "    <name>Loopback99</name>\n",
    "    <type xmlns:ianaift=\"urn:ietf:params:xml:ns:yang:iana-if-type\">ianaift:softwareLoopback</type>\n",
    "    <enabled>false</enabled>\n",
    "    <ipv4 xmlns=\"urn:ietf:params:xml:ns:yang:ietf-ip\">\n",
    "      <address>\n",
    "        <ip>1.2.3.4</ip>\n",
    "        <netmask>255.0.0.0</netmask>\n",
    "      </address>\n",
    "    </ipv4>\n",
    "    <ipv6 xmlns=\"urn:ietf:params:xml:ns:yang:ietf-ip\">\n",
    "      <address>\n",
    "        <ip>2001:db8:99::1</ip>\n",
    "        <prefix-length>64</prefix-length>\n",
    "      </address>\n",
    "    </ipv6>\n",
    "  </interface>\n",
    " </interfaces>\n",
    "</config>\n",
    "''')\n",
    "\n",
    "filter = '''\n",
    "<interfaces>\n",
    "  <interface>\n",
    "    <name>Loopback99</name>\n",
    "  </interface>\n",
    "</interfaces>\n",
    "'''"
   ]
  },
  {
   "cell_type": "code",
   "execution_count": null,
   "metadata": {
    "collapsed": false,
    "scrolled": false
   },
   "outputs": [],
   "source": [
    "from ncclient.operations.rpc import RPCError\n",
    "\n",
    "print(ET.tostring(loopback, pretty_print=True).decode('utf-8'))\n",
    "print(\"#\" * 40, end='\\n\\n')\n",
    "\n",
    "try:\n",
    "    m.edit_config(loopback, target='running', format='xml')\n",
    "except RPCError as e:\n",
    "    print(e.tag, e.severity)\n",
    "    xml = ET.XML(e.info.encode('utf-8'))\n",
    "    print(ET.tostring(xml, pretty_print=True).decode('utf-8'))\n",
    "\n",
    "# Candidate configuration store is not supported on IOS-XE as of today\n",
    "# This works on IOS XR, though.\n",
    "# m.commit()\n",
    "\n",
    "newconfig = m.get_config(source='running', filter=('subtree', filter))\n",
    "pretty_print(newconfig)"
   ]
  },
  {
   "cell_type": "markdown",
   "metadata": {},
   "source": [
    "You can go ahead and change IP addresses or remove one of the address families and re-run the above code snippet. Note that these configuration changes go into the 'running' configuration store. So they are not automatically persistent (e.g. they do not survive a reboot).\n",
    "\n",
    "# Operational Data\n",
    "\n",
    "As we touched on before, NETCONF also has the ```get``` operation. This can get both configuration state **and** operational state.\n",
    "\n",
    "## Verbose Interface Stats"
   ]
  },
  {
   "cell_type": "code",
   "execution_count": null,
   "metadata": {
    "collapsed": false,
    "scrolled": true
   },
   "outputs": [],
   "source": [
    "from ncclient.operations import TimeoutExpiredError\n",
    "\n",
    "filter = '''\n",
    "<interfaces-state xmlns=\"urn:ietf:params:xml:ns:yang:ietf-interfaces\"/>\n",
    "'''\n",
    "\n",
    "try:\n",
    "    c = m.get(filter=('subtree', filter))\n",
    "    pretty_print(c)\n",
    "except TimeoutExpiredError as e:\n",
    "    print(\"Operation timeout!\")\n",
    "except Exception as e:\n",
    "    print(\"severity={}, tag={}\".format(e.severity, e.tag))\n",
    "    print(e)"
   ]
  },
  {
   "cell_type": "markdown",
   "metadata": {},
   "source": [
    "## Zeroing In On A Specific Interface"
   ]
  },
  {
   "cell_type": "code",
   "execution_count": null,
   "metadata": {
    "collapsed": false
   },
   "outputs": [],
   "source": [
    "from ncclient.operations import TimeoutExpiredError\n",
    "\n",
    "filter = '''\n",
    "<interfaces-state xmlns=\"urn:ietf:params:xml:ns:yang:ietf-interfaces\">\n",
    "    <interface>\n",
    "      <name>GigabitEthernet1</name>\n",
    "    </interface>\n",
    "  </interface>\n",
    "</interfaces-state>\n",
    "'''\n",
    "\n",
    "try:\n",
    "    c = m.get(filter=('subtree', filter))\n",
    "    pretty_print(c)\n",
    "except TimeoutExpiredError as e:\n",
    "    print(\"Operation timeout!\")\n",
    "except Exception as e:\n",
    "    print(\"severity={}, tag={}\".format(e.severity, e.tag))\n",
    "    print(e)"
   ]
  },
  {
   "cell_type": "markdown",
   "metadata": {},
   "source": [
    "## Work with the Routing Table (RIB)\n",
    "The routing table is also operational data. We can use the `ietf-routing` YANG model to retrieve the current routing table and work with that data. In this case we're specifying a filter that only retrieves the IPv4 unicast-routing table. But we could also filter for IPv6 and/or multicast routing tables, if they exist."
   ]
  },
  {
   "cell_type": "code",
   "execution_count": null,
   "metadata": {
    "collapsed": false
   },
   "outputs": [],
   "source": [
    "from ncclient.operations import TimeoutExpiredError\n",
    "\n",
    "filter = '''\n",
    "<routing-state xmlns=\"urn:ietf:params:xml:ns:yang:ietf-routing\">\n",
    "  <routing-instance>\n",
    "    <ribs>\n",
    "      <rib>\n",
    "        <name>ipv4-default</name>\n",
    "        <address-family xmlns:v4ur=\"urn:ietf:params:xml:ns:yang:ietf-ipv4-unicast-routing\">v4ur:ipv4-unicast</address-family>\n",
    "        <default-rib>true</default-rib>\n",
    "        <routes/>\n",
    "      </rib>\n",
    "    </ribs>\n",
    "  </routing-instance>\n",
    "</routing-state>\n",
    "'''\n",
    "\n",
    "try:\n",
    "    c = m.get(filter=('subtree', filter))\n",
    "    pretty_print(c)\n",
    "except TimeoutExpiredError as e:\n",
    "    print(\"Operation timeout!\")\n",
    "except Exception as e:\n",
    "    print(\"severity={}, tag={}\".format(e.severity, e.tag))\n"
   ]
  },
  {
   "cell_type": "markdown",
   "metadata": {},
   "source": [
    "That's quite a mouthful of XML output. We are going to use *XML ElementTree* to digest this information and extract the pieces we're actually interested in.\n",
    "\n",
    "For this, we need to have the correct namespace (defined in `ns`) and a namespace map. The prefix doesn't actually matter in this case since all the returned items are assuming a default namespace, e.g. the prefix is empty.\n",
    "\n",
    "But for the `xpath` method to work we need to have a namespace map and no prefix in the namespace map is throwing an error. Therefore we define a namespace map with a 'bogus' prefix, 'rt'. It could be anything in this particular case to make it work.\n",
    "\n",
    "So, the code does:\n",
    "\n",
    "- find all `route` elements in the `ietf-routing` namespace\n",
    "- for all of these routes, using the `xpath` method, it extracts the text from these sub-elements\n",
    "    - destination-prefix\n",
    "    - next-hop-address\n",
    "    - outgoing-interface\n",
    "  (note that one of the last two can be empty)\n",
    "- print them with an index"
   ]
  },
  {
   "cell_type": "code",
   "execution_count": null,
   "metadata": {
    "collapsed": false
   },
   "outputs": [],
   "source": [
    "ns = 'urn:ietf:params:xml:ns:yang:ietf-routing'\n",
    "nsmap = dict(rt=ns)\n",
    "\n",
    "routes = c.data.findall(\".//{%s}route\" % ns)\n",
    "for i, route in enumerate(routes):\n",
    "    dest = route.xpath('./rt:destination-prefix/text()', namespaces=nsmap)\n",
    "    hop = route.xpath('./rt:next-hop/rt:next-hop-address/text()', namespaces=nsmap)\n",
    "    intfc = route.xpath('./rt:next-hop/rt:outgoing-interface/text()', namespaces=nsmap)\n",
    "    print(\"%4d:\\t%-20s via \" % (i, dest[0]), end='')\n",
    "    if len(hop) > 0:\n",
    "        print(\"%s \" % hop[0], end='')\n",
    "    if len(intfc) > 0:\n",
    "        print(\"%s\" % intfc[0], end='')\n",
    "    print()\n",
    "    "
   ]
  },
  {
   "cell_type": "markdown",
   "metadata": {
    "slideshow": {
     "slide_type": "-"
    }
   },
   "source": [
    "# Conclusion\n",
    "\n",
    "NETCONF presents a number of useful primitives that we looked at today:\n",
    "\n",
    "* **get config** to retrieve *configuration* data\n",
    "* **get** to retrieve *operational* data\n",
    "* **edit config** allows us to edit / change the configuration of the device\n",
    "* **commit** commits the changes from the candidate store into the running store\n",
    "* **get schema** retrieves a YANG schema from the device\n",
    "\n",
    "There are more, so follow up to understand more later.\n",
    "\n",
    "With the primitives we ran through today, you can do basic model discovery, understand what features are supported, and understand what parts of models are not supported.\n",
    "\n",
    "Products such as NSO, or open source projects like ODL or the YDK can use these basic capabilities to work with devices in a much more reliable way."
   ]
  },
  {
   "cell_type": "code",
   "execution_count": null,
   "metadata": {
    "collapsed": true
   },
   "outputs": [],
   "source": []
  }
 ],
 "metadata": {
  "kernelspec": {
   "display_name": "Python 3",
   "language": "python",
   "name": "python3"
  },
  "language_info": {
   "codemirror_mode": {
    "name": "ipython",
    "version": 3
   },
   "file_extension": ".py",
   "mimetype": "text/x-python",
   "name": "python",
   "nbconvert_exporter": "python",
   "pygments_lexer": "ipython3",
   "version": "3.5.2"
  },
  "toc": {
   "nav_menu": {
    "height": "297px",
    "width": "252px"
   },
   "navigate_menu": true,
   "number_sections": true,
   "sideBar": false,
   "threshold": 4,
   "toc_cell": true,
   "toc_section_display": "block",
   "toc_window_display": false
  }
 },
 "nbformat": 4,
 "nbformat_minor": 0
}
