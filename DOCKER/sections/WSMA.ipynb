{
 "cells": [
  {
   "cell_type": "markdown",
   "metadata": {
    "toc": "true"
   },
   "source": [
    "# Table of Contents\n",
    " <p><div class=\"lev1 toc-item\"><a href=\"#Web-Services-Management-Agent-(WSMA)\" data-toc-modified-id=\"Web-Services-Management-Agent-(WSMA)-1\"><span class=\"toc-item-num\">1&nbsp;&nbsp;</span>Web Services Management Agent (WSMA)</a></div><div class=\"lev2 toc-item\"><a href=\"#Device-Configuration\" data-toc-modified-id=\"Device-Configuration-11\"><span class=\"toc-item-num\">1.1&nbsp;&nbsp;</span>Device Configuration</a></div><div class=\"lev2 toc-item\"><a href=\"#Setup-and-Preparation\" data-toc-modified-id=\"Setup-and-Preparation-12\"><span class=\"toc-item-num\">1.2&nbsp;&nbsp;</span>Setup and Preparation</a></div><div class=\"lev2 toc-item\"><a href=\"#Getting-started-with-WSMA\" data-toc-modified-id=\"Getting-started-with-WSMA-13\"><span class=\"toc-item-num\">1.3&nbsp;&nbsp;</span>Getting started with WSMA</a></div><div class=\"lev2 toc-item\"><a href=\"#Setting-up-a-global-WSMA-Object\" data-toc-modified-id=\"Setting-up-a-global-WSMA-Object-14\"><span class=\"toc-item-num\">1.4&nbsp;&nbsp;</span>Setting up a global WSMA Object</a></div><div class=\"lev1 toc-item\"><a href=\"#Using-WSMA-to-set-up-NETCONF\" data-toc-modified-id=\"Using-WSMA-to-set-up-NETCONF-2\"><span class=\"toc-item-num\">2&nbsp;&nbsp;</span>Using WSMA to set up NETCONF</a></div><div class=\"lev2 toc-item\"><a href=\"#Using-Format-Specification-for-Structured-Data\" data-toc-modified-id=\"Using-Format-Specification-for-Structured-Data-21\"><span class=\"toc-item-num\">2.1&nbsp;&nbsp;</span>Using Format Specification for Structured Data</a></div><div class=\"lev1 toc-item\"><a href=\"#More-Examples-to-play-with\" data-toc-modified-id=\"More-Examples-to-play-with-3\"><span class=\"toc-item-num\">3&nbsp;&nbsp;</span>More Examples to play with</a></div><div class=\"lev1 toc-item\"><a href=\"#Make-Configuration-Persistent\" data-toc-modified-id=\"Make-Configuration-Persistent-4\"><span class=\"toc-item-num\">4&nbsp;&nbsp;</span>Make Configuration Persistent</a></div><div class=\"lev1 toc-item\"><a href=\"#Module-Documentation\" data-toc-modified-id=\"Module-Documentation-5\"><span class=\"toc-item-num\">5&nbsp;&nbsp;</span>Module Documentation</a></div>"
   ]
  },
  {
   "cell_type": "markdown",
   "metadata": {},
   "source": [
    "# Web Services Management Agent (WSMA)\n",
    "The Web Services Management Agent (WSMA) defines a mechanism through which a network device can be managed, configuration data information can be retrieved, and new configuration data can be uploaded and manipulated. \n",
    "\n",
    "WSMA uses Extensible Markup Language (XML)-based data encoding, that is transported by the Simple Object Access Protocol (SOAP), for the configuration data and protocol messages.\n",
    "\n",
    "In this Jupyter Notebook we're going through some basic examples how to use the a simple Python module that provides an 'easy-to-use' abstraction layer for the WSMA service. It can be used for exec commands (like `show version` or `show ip interface brief`) or for configuration commands.\n",
    "\n",
    "For additional information see the following links:\n",
    "- [WSMA Configuration Guide, Cisco IOS Release 15.1M](http://www.cisco.com/c/en/us/td/docs/ios/netmgmt/configuration/guide/Convert/WSMA/nm_cfg_wsma.html)\n",
    "- [Cisco IOS Web Services Management Agent Command Reference](http://www.cisco.com/c/en/us/td/docs/ios-xml/ios/wsma/command/wsma-cr-book/wsma-cr-a1.html)\n",
    "- [WSMA Python Library](https://github.com/rschmied/wsma_python)\n",
    "\n",
    "\n",
    "## Device Configuration\n",
    "The network device needs to be configured for WSMA in the same way as it needs configuration to support Telnet, SSH, NETCONF or RESTCONF, to name a few device management options.\n",
    "\n",
    "In its simplest form, put the following configuration onto the device:\n",
    "\n",
    "```\n",
    "ip http server\n",
    "ip http authentication local\n",
    "wsma agent exec\n",
    " profile WSMA\n",
    "wsma agent config\n",
    " profile WSMA\n",
    "wsma profile listener WSMA\n",
    " transport http\n",
    "end\n",
    "```\n",
    "\n",
    "We have enabled the web server on the device, defined local authentication so locally defined users with the correct privileges can use the service and selected the HTTP transport. This is exactly how `rtr1` has been setup.\n",
    "\n",
    "<p class=\"my-notify-info\">The above configuration snippet supports WSMA over HTTP. Note that in a production environment you should use an *encrypted* transport like HTTPS or SSH.</p>\n",
    "\n",
    "\n",
    "## Setup and Preparation\n",
    "To start the demonstration, we need to setup some logging. We set the log level to `WARN` which is the default. \n",
    "\n",
    "Setting the level to `INFO` or even `DEBUG` produces considerable more logging output."
   ]
  },
  {
   "cell_type": "code",
   "execution_count": null,
   "metadata": {
    "collapsed": false
   },
   "outputs": [],
   "source": [
    "import logging\n",
    "\n",
    "logging.basicConfig()\n",
    "logger = logging.getLogger()\n",
    "logger.setLevel(logging.WARN)"
   ]
  },
  {
   "cell_type": "markdown",
   "metadata": {},
   "source": [
    "Please specify the device parameters below:"
   ]
  },
  {
   "cell_type": "code",
   "execution_count": null,
   "metadata": {
    "collapsed": true
   },
   "outputs": [],
   "source": [
    "USER = 'vagrant'\n",
    "PASS = 'vagrant'\n",
    "HOST = '172.20.20.10'"
   ]
  },
  {
   "cell_type": "markdown",
   "metadata": {},
   "source": [
    "Note that the other router (`rtr-2`) is on `172.20.20.20`. Both routers have an additional user configured with username and password `cisco` and a privilege level of \"1\". Use this *non-privileged* user to see how it behaves when using unauthorized commands (like config commands with the \"cisco\" user).\n",
    "\n",
    "## Getting started with WSMA\n",
    "Now that we have set up logging, we can actually import the library and run some code. The first examples uses a `with/as` construct that automatically opens and tests the connection for us. If the test is working, we will get the WSMA object as `w` and can work with it.\n",
    "\n",
    "When the code leaves the `with` statement, the connection to the device is automatically closed. This is in particular useful when using the SSH transport as in this case the session will only be established once (in the beginning) and not for every configuration or show command.\n",
    "\n",
    "In the case of HTTP/S it *could* also be useful. However, the current implementation of the service seems to close the session after every request. "
   ]
  },
  {
   "cell_type": "code",
   "execution_count": null,
   "metadata": {
    "collapsed": false
   },
   "outputs": [],
   "source": [
    "# import the library\n",
    "import wsma\n",
    "\n",
    "# use the with / as construct to create a WSMA object and work with it\n",
    "with wsma.HTTP(HOST, USER, PASS, port=80, tls=False) as w:\n",
    "    if w is not None:\n",
    "        w.execCLI('show ip interface brief')\n",
    "        print(w.output)"
   ]
  },
  {
   "cell_type": "markdown",
   "metadata": {},
   "source": [
    "## Setting up a global WSMA Object\n",
    "In the next example, for the purpose of this demonstration, we create a WSMA object and manually `connect()` it. This way, we can use it until the end of this Jupyter Notebook."
   ]
  },
  {
   "cell_type": "code",
   "execution_count": null,
   "metadata": {
    "collapsed": false
   },
   "outputs": [],
   "source": [
    "w = wsma.HTTP(HOST, USER, PASS, port=80, tls=False)\n",
    "# w = wsma.SSH(HOST, USER, PASS)\n",
    "w.connect()\n",
    "w._ping()\n",
    "w.output"
   ]
  },
  {
   "cell_type": "code",
   "execution_count": null,
   "metadata": {
    "collapsed": false
   },
   "outputs": [],
   "source": [
    "print(w.hasSession)"
   ]
  },
  {
   "cell_type": "markdown",
   "metadata": {},
   "source": [
    "<p class=\"my-notify-info\">Try using SSH as a transport by commenting out the HTTP line and remove the comment from the SSH line. Does it work? Why not? Use `rtr2` with SSH. Does that work? Why?</p>\n",
    "\n",
    "\n",
    "# Using WSMA to set up NETCONF\n",
    "We're using WSMA to finalize the setup of the NETCONF agent. The way of provisioning the configuration into a Vagrant VM / router leaves the trustpoint without a valid key. We therefore need to\n",
    "\n",
    "- delete the existing trustpoints\n",
    "- unconfigure the NETCONF agent\n",
    "- configure the NETCONF agent\n",
    "\n",
    "When the NETCONF agent is again configured it creates the required keys (but only if they do not exist in the first place).\n",
    "\n",
    "This is a very specific Vagrant configuration provisioning related issue and should not be an issue in the real world. But it illustrates a nice WSMA use-case.\n",
    "\n",
    "First, let's delete the key material. This is not really necessary but results in a *clean slate*."
   ]
  },
  {
   "cell_type": "code",
   "execution_count": null,
   "metadata": {
    "collapsed": false
   },
   "outputs": [],
   "source": [
    "w.config(\"crypto key zeroize\")"
   ]
  },
  {
   "cell_type": "code",
   "execution_count": null,
   "metadata": {
    "collapsed": false,
    "scrolled": true
   },
   "outputs": [],
   "source": [
    "import re\n",
    "\n",
    "w.execCLI(\"show crypto pki trustpoint\")\n",
    "tp_re = '^Trustpoint (TP-self-signed-[0-9]+)'\n",
    "trustpoints = w.output\n",
    "print(trustpoints)\n",
    "changed = False\n",
    "\n",
    "for tp in re.findall(tp_re, trustpoints):\n",
    "    w.config(\"no crypto pki trustpoint %s\" % tp)\n",
    "    changed = True\n",
    "\n",
    "if changed:\n",
    "    w.config(\"no netconf-yang\")\n",
    "    w.config(\"netconf-yang\")\n",
    "    # w.execCLI(\"copy run start\")\n",
    "    # w.configPersist()"
   ]
  },
  {
   "cell_type": "code",
   "execution_count": null,
   "metadata": {
    "collapsed": false
   },
   "outputs": [],
   "source": [
    "m = re.search(tp_re, trustpoints)\n",
    "if m is not None:\n",
    "    w.execCLI(\"show crypto key mypubkey rsa %s\" % m.group(1))\n",
    "    print(w.output)"
   ]
  },
  {
   "cell_type": "markdown",
   "metadata": {},
   "source": [
    "## Using Format Specification for Structured Data"
   ]
  },
  {
   "cell_type": "code",
   "execution_count": null,
   "metadata": {
    "collapsed": false
   },
   "outputs": [],
   "source": [
    "w.execCLI('show ip interface brief', format_spec='built-in')"
   ]
  },
  {
   "cell_type": "code",
   "execution_count": null,
   "metadata": {
    "collapsed": false,
    "scrolled": true
   },
   "outputs": [],
   "source": [
    "import json\n",
    "print(json.dumps(w.odmFormatResult, indent=2))"
   ]
  },
  {
   "cell_type": "markdown",
   "metadata": {
    "collapsed": false,
    "scrolled": false
   },
   "source": [
    "OK, so how did this work? Even though that we're dealing with the CLI, the above command returned structured data! Well, unfortunately, this only works for a very few, select commands where a template / schema exists within IOS (hence the 'built-in' format specification).\n",
    "\n",
    "It is possible to create your own specifications but that is kind of cumbersome and we're referring to more modern approaches to structured data and network device programability like NETCONF and RESTCONF.\n",
    "\n",
    "For the time being, here's the command that shows you what schema templates do exist in the IOS device:"
   ]
  },
  {
   "cell_type": "code",
   "execution_count": null,
   "metadata": {
    "collapsed": false
   },
   "outputs": [],
   "source": [
    "w.execCLI('show format built-in')\n",
    "print(w.output)"
   ]
  },
  {
   "cell_type": "markdown",
   "metadata": {},
   "source": [
    "And, to give you some idea about the templates, here's the output for the format template we just used for the `show ip interface brief` command:"
   ]
  },
  {
   "cell_type": "code",
   "execution_count": null,
   "metadata": {
    "collapsed": false
   },
   "outputs": [],
   "source": [
    "w.execCLI('sh format built-in cli show ip interface brief')\n",
    "print(w.output)"
   ]
  },
  {
   "cell_type": "markdown",
   "metadata": {},
   "source": [
    "Or something that is a bit more complex. Essentially, by providing information for delimiters, length and position of data, containers and lists (*structured data*) can be created from programmatic screen scraping:"
   ]
  },
  {
   "cell_type": "code",
   "execution_count": null,
   "metadata": {
    "collapsed": false
   },
   "outputs": [],
   "source": [
    "w.execCLI('sh format built-in cli show inventory')\n",
    "print(w.output)"
   ]
  },
  {
   "cell_type": "markdown",
   "metadata": {},
   "source": [
    "The following code segment shows the device inventory of the virtual CSR. First, the original screen output from the CLI and then the output using the above specification:"
   ]
  },
  {
   "cell_type": "code",
   "execution_count": null,
   "metadata": {
    "collapsed": false
   },
   "outputs": [],
   "source": [
    "w.execCLI('show inventory')\n",
    "print(w.output), \n",
    "\n",
    "print('\\n%s\\n' % ('#' * 40))\n",
    "\n",
    "w.execCLI('show inventory', format_spec='built-in')\n",
    "print(json.dumps(w.odmFormatResult, indent=2))"
   ]
  },
  {
   "cell_type": "markdown",
   "metadata": {
    "collapsed": true
   },
   "source": [
    "# More Examples to play with\n",
    "Feel free to change the commands sent to the router to something else. Experiment with regular expressions and work with the resulting output of the commands.\n",
    "\n",
    "Also be aware that you can get help for any Python command by using the `help()` command like shown in the box at the end of this notebook."
   ]
  },
  {
   "cell_type": "code",
   "execution_count": null,
   "metadata": {
    "collapsed": false
   },
   "outputs": [],
   "source": [
    "w.execCLI('show cdp neighbor\\nshow ip route summary\\nshow ip ospf neighbor')\n",
    "print(w.output)"
   ]
  },
  {
   "cell_type": "code",
   "execution_count": null,
   "metadata": {
    "collapsed": false
   },
   "outputs": [],
   "source": [
    "w.execCLI('show ip route | inc E1')\n",
    "print(w.output)"
   ]
  },
  {
   "cell_type": "markdown",
   "metadata": {},
   "source": [
    "# Make Configuration Persistent\n",
    "Here's another method to save the configuration, e.g. make the configuration *persistent*: `configPersist()`. It is defined as 'copies the running configuration to the startup configuration so that it persists across reloads'."
   ]
  },
  {
   "cell_type": "code",
   "execution_count": null,
   "metadata": {
    "collapsed": false
   },
   "outputs": [],
   "source": [
    "w.configPersist()"
   ]
  },
  {
   "cell_type": "markdown",
   "metadata": {},
   "source": [
    "<p class=\"my-notify-info\">It takes a few seconds to save the configuration as it would while doing the same via CLI. The *processing* is indicated by an asterisk left to the notebook cell (`[*]`).</p>\n",
    "\n",
    "# Module Documentation\n",
    "As with all Python code, documentation should be embedded and can be obtained by using the `help()` function. Try also `help(wsma.HTTP)` or `help(wsma.SSH)`."
   ]
  },
  {
   "cell_type": "code",
   "execution_count": null,
   "metadata": {
    "collapsed": false
   },
   "outputs": [],
   "source": [
    "help(wsma)"
   ]
  },
  {
   "cell_type": "code",
   "execution_count": null,
   "metadata": {
    "collapsed": true
   },
   "outputs": [],
   "source": []
  }
 ],
 "metadata": {
  "kernelspec": {
   "display_name": "Python 3",
   "language": "python",
   "name": "python3"
  },
  "language_info": {
   "codemirror_mode": {
    "name": "ipython",
    "version": 3
   },
   "file_extension": ".py",
   "mimetype": "text/x-python",
   "name": "python",
   "nbconvert_exporter": "python",
   "pygments_lexer": "ipython3",
   "version": "3.5.2"
  },
  "toc": {
   "nav_menu": {
    "height": "207px",
    "width": "252px"
   },
   "navigate_menu": true,
   "number_sections": true,
   "sideBar": false,
   "threshold": 4,
   "toc_cell": true,
   "toc_section_display": "block",
   "toc_window_display": false
  }
 },
 "nbformat": 4,
 "nbformat_minor": 1
}
