{
 "cells": [
  {
   "cell_type": "markdown",
   "metadata": {
    "toc": "true"
   },
   "source": [
    "# Table of Contents\n",
    " <p><div class=\"lev1 toc-item\"><a href=\"#Network-Device-Programability\" data-toc-modified-id=\"Network-Device-Programability-1\"><span class=\"toc-item-num\">1&nbsp;&nbsp;</span>Network Device Programability</a></div><div class=\"lev2 toc-item\"><a href=\"#What's-it-about\" data-toc-modified-id=\"What's-it-about-11\"><span class=\"toc-item-num\">1.1&nbsp;&nbsp;</span>What's it about</a></div><div class=\"lev2 toc-item\"><a href=\"#Why-This-Matters\" data-toc-modified-id=\"Why-This-Matters-12\"><span class=\"toc-item-num\">1.2&nbsp;&nbsp;</span>Why This Matters</a></div><div class=\"lev2 toc-item\"><a href=\"#Jupyter-Notebooks\" data-toc-modified-id=\"Jupyter-Notebooks-13\"><span class=\"toc-item-num\">1.3&nbsp;&nbsp;</span>Jupyter Notebooks</a></div><div class=\"lev2 toc-item\"><a href=\"#Environment\" data-toc-modified-id=\"Environment-14\"><span class=\"toc-item-num\">1.4&nbsp;&nbsp;</span>Environment</a></div><div class=\"lev2 toc-item\"><a href=\"#Sections\" data-toc-modified-id=\"Sections-15\"><span class=\"toc-item-num\">1.5&nbsp;&nbsp;</span>Sections</a></div>"
   ]
  },
  {
   "cell_type": "markdown",
   "metadata": {},
   "source": [
    "# Network Device Programability\n",
    "\n",
    "## What's it about\n",
    "This class focuses on various aspects of *Network Device Programability*. In other words: How to use a *program or script* to configure and / or operate a network device (a router, a switch, a firewall). This is an alternative with various benefits to do the same thing in the traditional way, namely by using the device's CLI.\n",
    "\n",
    "## Why This Matters\n",
    "The following image illustrates why Network Device Programability matters\n",
    "\n",
    "![](images/whyndpmatters.png)\n",
    "\n",
    "While a lot of money is spent running and maintaining network infrastructure compared to the initial hardware spend, it takes considerable more time when it comes to deployment of new services compared to data center resources like *compute* or *storage*.\n",
    "\n",
    "Programability solutions can help to bring down that time while, simultaneously, help with\n",
    "\n",
    "- repeatability\n",
    "- reliability \n",
    "- consistency\n",
    "\n",
    "when operating network devices.\n",
    "\n",
    "## High Level Overview\n",
    "\n",
    "![](images/agents.png)\n",
    "\n",
    "\n",
    "## Jupyter Notebooks\n",
    "The *Jupyter Notebooks* in this workbench class are interactive learning environments. We are using them to learn about network device programability in combination with virtual Cisco network devices.\n",
    "\n",
    "Notebooks are **interactive**, the code and text in each notebook can be changed on the fly and the result of those changes can be seen immediately within the notebook itself.\n",
    "\n",
    "Notebooks are organized in *cells*, each displayed *rectangle* or *cell* is basically either Markdown text (like this cell) or Python code. Python code can be *executed* by either clicking the  <span class=\"inline\">![](images/forwardicon.png)</span> in the 'Cell' menu in the menu bar or the key combination 'Shift-Enter'.\n",
    "\n",
    "<div class=\"my-notify-warning\">\n",
    "\n",
    "<p>**IMPORTANT for Execution. PLEASE READ**. At its simplest, this is a playbook and execution is top-down. Code cells will look something like `In [#]:` (with '#' being a number). That's where you want to single-click. To execute the code, simply hit Shift+Enter.</p>\n",
    "\n",
    "<p>The code should execute, and move onto the next cell. The number in `In [#]:` will change and if there is some return value (as opposed to an explicit `print()` statement) it will appear in an `Out [#]:` cell. The numbers will change after each cell execution.</p>\n",
    "\n",
    "<p>It's easy to \"execute\" an entire notebook, task-by-task, by continuing to execute Shift+Return. Also, if you ever see `In [*]:` in your code cells (note the asterisk '\\*'), it just means things are executing, and you are probably waiting on data to come back.</p>\n",
    "\n",
    "<p>So depending on what you're doing, some patience might be required.</p>\n",
    "\n",
    "</div>\n",
    "\n",
    "\n",
    "## Environment\n",
    "The workbench environment is running entirely inside of the provided MacBook Pros. We use [Vagrant](https://www.vagrantup.com/) to run two [CSR 1000V virtual routers](http://www.cisco.com/c/en/us/products/routers/cloud-services-router-1000v-series/index.html) running IOS XE 16.3.2 and we use [Docker](https://www.docker.com/) to provide the [Jupyter](http://jupyter.org/) interactive notebooks (like the document you are currently looking at).\n",
    "\n",
    "The Python environment in the notebooks communicate with the routers via a host-only *internal* network on the MacBook Pro. The MacBook has its own IP address on this host-only network: `172.20.20.1`. The container can access the routers on their own IP addresses, `172.20.20.10` and `172.20.20.20` respectively. The following diagram shows a high level overview of the environment:\n",
    "\n",
    "![Topology](images/topology.png)\n",
    "\n",
    "We can access the CLI of the CSR1000v using a terminal (`Terminal.app`) and, while in the Vagrant directory, typing `vagrant ssh rtr1` or `vagrant ssh rtr2`. Because a public key has been installed into the router(s), we get a privileged shell / CLI without being prompted for a password.\n",
    "\n",
    "While on the router, you can check the 'wsma' configuration section and also the remaining configuration which enables NETCONF and RESTCONF. \n",
    "\n",
    "Apart from a few static routes and an OSPF process there is not a lot else configured on the box."
   ]
  },
  {
   "cell_type": "markdown",
   "metadata": {},
   "source": [
    "## Sections\n",
    "This class has four separate learning sections. It is suggested to look at them in the indicated sequence. They are:\n",
    "\n",
    "No. | Section | Description | Link\n",
    "----- | ------- | ----------- | ----\n",
    "1. | **WSMA** | The Web Services Management Agent (WSMA) represents a simple way of interacting with devices. Contrary to NETCONF and RESTCONF, WSMA is primarily dealing with CLI and unstructured data from CLI output. However, using XML based templates, it is also possible to retrieve structured data using WSMA. Some of these templates are built into IOS already. |  [CLICK HERE TO START THIS NOTEBOOK](sections/WSMA.ipynb)\n",
    "2. | **NETCONF and YANG** | In this notebook we learn how to use NETCONF to interact with the given routers. We will configure the devices and read their operational data like interface counters or routing tables. We will use the `ncclient` Python library which simplifies session management tremendously. | [CLICK HERE TO START THIS NOTEBOOK](sections/NETCONF.ipynb)\n",
    "3. | **RESTCONF** | In this notebook we're replacing NETCONF with RESTCONF as the underlying transport to interact with the routers. We will use the popular `requests` Python library to facilitate the baseline communication with the devices. | [CLICK HERE TO START THIS NOTEBOOK](sections/RESTCONF.ipynb)\n",
    "4. | ** XML ** | This notebook has some background information about XML in Python using the `lxml` library. This is more a 'it may be useful later' kind of document that shows a few methods how to programatically create XML element trees which are often needed when dealing with NetConf. | [CLICK HERE TO START THIS NOTEBOOK](sections/LXML-NETCONF.ipynb)\n",
    "\n",
    "<p class=\"my-notify-info\">The links above will open the respective Jupyter Notebooks in new browser windows or tabs. Close them down or switch back to this window when done to continue with the next section.</p>\n"
   ]
  },
  {
   "cell_type": "code",
   "execution_count": null,
   "metadata": {
    "collapsed": true,
    "run_control": {
     "frozen": false,
     "read_only": false
    }
   },
   "outputs": [],
   "source": []
  }
 ],
 "metadata": {
  "kernelspec": {
   "display_name": "Python 3",
   "language": "python",
   "name": "python3"
  },
  "language_info": {
   "codemirror_mode": {
    "name": "ipython",
    "version": 3
   },
   "file_extension": ".py",
   "mimetype": "text/x-python",
   "name": "python",
   "nbconvert_exporter": "python",
   "pygments_lexer": "ipython3",
   "version": "3.5.2"
  },
  "toc": {
   "navigate_menu": false,
   "number_sections": true,
   "sideBar": false,
   "threshold": 4,
   "toc_cell": true,
   "toc_section_display": "block",
   "toc_window_display": true
  }
 },
 "nbformat": 4,
 "nbformat_minor": 1
}
